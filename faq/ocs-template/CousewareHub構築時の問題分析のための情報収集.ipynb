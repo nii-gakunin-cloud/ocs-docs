{
 "cells": [
  {
   "cell_type": "markdown",
   "metadata": {
    "lc_cell_meme": {
     "current": "16f1fd78-6e4b-11ee-b58a-0242ac110003-3-99df-b5d9-c8dc",
     "next": "16f1fdc8-6e4b-11ee-b58a-0242ac110003-3-a4b0-3aeb-02c4",
     "previous": null
    }
   },
   "source": [
    "# CoursewareHubの構築時の問題分析のための情報収集\n",
    "\n",
    "---\n",
    "\n",
    "CoursewareHubの構築時に発生した問題を分析するための情報を収集します。\n",
    "\n",
    "以下のNotebookで構築する内容を対象とします。\n",
    "- 011-VCノード作成-構成1.ipynb\n",
    "- 021-VCノード作成-構成2.ipynb\n",
    "- 031-VCノード作成-構成3.ipynb\n",
    "- 121-CoursewareHubのセットアップ-ローカルユーザ認証.ipynb\n",
    "- 221-CoursewareHubのセットアップ.ipynb\n",
    "- 321-CoursewareHubのセットアップ.ipynb"
   ]
  },
  {
   "cell_type": "markdown",
   "metadata": {
    "lc_cell_meme": {
     "current": "16f1fdc8-6e4b-11ee-b58a-0242ac110003-3-a4b0-3aeb-02c4",
     "next": "3fc4b97a-71c5-11ee-b58a-0242ac110003-2-5186-ea95",
     "previous": "16f1fd78-6e4b-11ee-b58a-0242ac110003-3-99df-b5d9-c8dc"
    }
   },
   "source": [
    "## はじめに\n",
    "\n"
   ]
  },
  {
   "cell_type": "markdown",
   "metadata": {
    "lc_cell_meme": {
     "current": "3fc4b97a-71c5-11ee-b58a-0242ac110003-2-5186-ea95",
     "next": "ceca060c-71c5-11ee-b58a-0242ac110003-2-e356-da18",
     "previous": "16f1fdc8-6e4b-11ee-b58a-0242ac110003-3-a4b0-3aeb-02c4"
    }
   },
   "source": [
    "`000-README.ipynb`の`5 作業用Notebookの作成`で指定した`作業用Notebookを配置するディレクトリ`にこのNotebookを配置し実行ください。\n",
    "他のディレクトリに配置した場合正しく動作しません。"
   ]
  },
  {
   "cell_type": "markdown",
   "metadata": {
    "lc_cell_meme": {
     "current": "ceca060c-71c5-11ee-b58a-0242ac110003-2-e356-da18",
     "next": "b7397368-720d-11ee-b58a-0242ac110003-2-a8ec-e3b8",
     "previous": "3fc4b97a-71c5-11ee-b58a-0242ac110003-2-5186-ea95"
    }
   },
   "source": [
    "ここでは以降の情報収集準備として、対象となるUnitGroup等の指定と設定済みパラメータの読み込みを実施します。\n",
    "また、VCCにアクセスするために必要となるアクセストークンの入力を行います。\n",
    "\n",
    "入力すべき項目は全てこの章にまとまっていますので、この章を実行後は以降の章についてはまとめて実行いただいて問題ございません。"
   ]
  },
  {
   "cell_type": "markdown",
   "metadata": {
    "lc_cell_meme": {
     "current": "b7397368-720d-11ee-b58a-0242ac110003-2-a8ec-e3b8",
     "next": "fec19008-720d-11ee-b58a-0242ac110003-2-ca11-9e15",
     "previous": "ceca060c-71c5-11ee-b58a-0242ac110003-2-e356-da18"
    }
   },
   "source": [
    "group_varsファイル名の一覧を表示します。group_varsへの保存が実施されていた場合はUnitGeroup名で設定ファイルが作成されています。"
   ]
  },
  {
   "cell_type": "code",
   "execution_count": null,
   "metadata": {
    "lc_cell_meme": {
     "current": "fec19008-720d-11ee-b58a-0242ac110003-2-ca11-9e15",
     "next": "9753e3e8-6f20-11ee-b58a-0242ac110003-3-1764-b6b2-bab9",
     "previous": "b7397368-720d-11ee-b58a-0242ac110003-2-a8ec-e3b8"
    },
    "lc_wrapper": {}
   },
   "outputs": [],
   "source": [
    "!ls -1 group_vars/"
   ]
  },
  {
   "cell_type": "markdown",
   "metadata": {
    "lc_cell_meme": {
     "current": "9753e3e8-6f20-11ee-b58a-0242ac110003-3-1764-b6b2-bab9",
     "next": "9753e4ec-6f20-11ee-b58a-0242ac110003-3-b0fa-d741-6c85",
     "previous": "fec19008-720d-11ee-b58a-0242ac110003-2-ca11-9e15"
    }
   },
   "source": [
    "上記の出力も参考に情報収集の対象となるUnitGroup名を指定してください。"
   ]
  },
  {
   "cell_type": "code",
   "execution_count": null,
   "metadata": {
    "lc_cell_meme": {
     "current": "9753e4ec-6f20-11ee-b58a-0242ac110003-3-b0fa-d741-6c85",
     "next": "b93652c4-71c9-11ee-b58a-0242ac110003-2-6185-5a8a",
     "previous": "9753e3e8-6f20-11ee-b58a-0242ac110003-3-1764-b6b2-bab9"
    },
    "lc_wrapper": {}
   },
   "outputs": [],
   "source": [
    "# (例)\n",
    "# ugroup_name = 'CoursewareHub'\n",
    "\n",
    "ugroup_name = "
   ]
  },
  {
   "cell_type": "markdown",
   "metadata": {
    "lc_cell_meme": {
     "current": "b93652c4-71c9-11ee-b58a-0242ac110003-2-6185-5a8a",
     "next": "ea5d43c6-71c9-11ee-b58a-0242ac110003-2-f43a-f895",
     "previous": "9753e4ec-6f20-11ee-b58a-0242ac110003-3-b0fa-d741-6c85"
    }
   },
   "source": [
    "manager unit名とworker unit名を指定します。デフォルトから変更してしていない場合はそのまま実行ください。"
   ]
  },
  {
   "cell_type": "code",
   "execution_count": null,
   "metadata": {
    "lc_cell_meme": {
     "current": "ea5d43c6-71c9-11ee-b58a-0242ac110003-2-f43a-f895",
     "next": "0c83806c-71d1-11ee-b58a-0242ac110003-2-d909-2233",
     "previous": "b93652c4-71c9-11ee-b58a-0242ac110003-2-6185-5a8a"
    },
    "lc_wrapper": {}
   },
   "outputs": [],
   "source": [
    "manager_name = 'manager'\n",
    "worker_name = 'worker'"
   ]
  },
  {
   "cell_type": "markdown",
   "metadata": {
    "lc_cell_meme": {
     "current": "0c83806c-71d1-11ee-b58a-0242ac110003-2-d909-2233",
     "next": "0c83817a-71d1-11ee-b58a-0242ac110003-2-cde9-42b2",
     "previous": "ea5d43c6-71c9-11ee-b58a-0242ac110003-2-f43a-f895"
    }
   },
   "source": [
    "NFS server用 unit名を指定してください。managerノードにNFSサーバを配置する構成としている場合やデフォルトから変更してしていない場合はそのまま実行ください。"
   ]
  },
  {
   "cell_type": "code",
   "execution_count": null,
   "metadata": {
    "lc_cell_meme": {
     "current": "0c83817a-71d1-11ee-b58a-0242ac110003-2-cde9-42b2",
     "next": "4a846bfa-71c3-11ee-b58a-0242ac110003-2-f580-3c20",
     "previous": "0c83806c-71d1-11ee-b58a-0242ac110003-2-d909-2233"
    },
    "lc_wrapper": {}
   },
   "outputs": [],
   "source": [
    "nfs_name = 'nfs' #managerとNFSサーバを別々のノードに分離した場合のデフォルト名"
   ]
  },
  {
   "cell_type": "markdown",
   "metadata": {
    "lc_cell_meme": {
     "current": "4a846bfa-71c3-11ee-b58a-0242ac110003-2-f580-3c20",
     "next": "4a846d12-71c3-11ee-b58a-0242ac110003-2-c106-e19b",
     "previous": "0c83817a-71d1-11ee-b58a-0242ac110003-2-cde9-42b2"
    }
   },
   "source": [
    "設定しているパラメータの情報を読み込みます。"
   ]
  },
  {
   "cell_type": "code",
   "execution_count": null,
   "metadata": {
    "lc_cell_meme": {
     "current": "4a846d12-71c3-11ee-b58a-0242ac110003-2-c106-e19b",
     "next": "f7f24f5c-73b5-11ee-857a-0242ac110003",
     "previous": "4a846bfa-71c3-11ee-b58a-0242ac110003-2-f580-3c20"
    },
    "lc_wrapper": {}
   },
   "outputs": [],
   "source": [
    "%run scripts/group.py\n",
    "gvars = load_group_vars(ugroup_name)"
   ]
  },
  {
   "cell_type": "markdown",
   "metadata": {
    "lc_cell_meme": {
     "current": "f7f24f5c-73b5-11ee-857a-0242ac110003",
     "next": "86eb5ae6-73b6-11ee-857a-0242ac110003",
     "previous": "4a846d12-71c3-11ee-b58a-0242ac110003-2-c106-e19b"
    }
   },
   "source": [
    "設定しているパラメータからNFSサーバを操作するための Ansible のグループ名を設定します。次のセルを実行ください。"
   ]
  },
  {
   "cell_type": "code",
   "execution_count": null,
   "metadata": {
    "lc_cell_meme": {
     "current": "86eb5ae6-73b6-11ee-857a-0242ac110003",
     "next": "16f200ca-6e4b-11ee-b58a-0242ac110003-3-28ea-ec03-2cc9",
     "previous": "f7f24f5c-73b5-11ee-857a-0242ac110003"
    },
    "lc_wrapper": {}
   },
   "outputs": [],
   "source": [
    "if 'nfs_target' in gvars:\n",
    "    nfs_target = gvars['nfs_target']\n",
    "elif 'nfs_flavor' in gvars:\n",
    "    nfs_target = f'{ugroup_name}_{nfs_name}'\n",
    "else:\n",
    "    nfs_target = f'{ugroup_name}_{manager_name}'\n",
    "\n",
    "print(nfs_target)"
   ]
  },
  {
   "cell_type": "markdown",
   "metadata": {
    "lc_cell_meme": {
     "current": "16f200ca-6e4b-11ee-b58a-0242ac110003-3-28ea-ec03-2cc9",
     "next": "16f200f2-6e4b-11ee-b58a-0242ac110003-3-1070-8df4-5058",
     "previous": "86eb5ae6-73b6-11ee-857a-0242ac110003"
    }
   },
   "source": [
    "VCノード等の情報を収集するためにはVC Controller(VCC)にアクセスして、操作を行う必要があります。VCCにアクセスするために必要となるアクセストークンをここで入力します。"
   ]
  },
  {
   "cell_type": "markdown",
   "metadata": {
    "lc_cell_meme": {
     "current": "16f200f2-6e4b-11ee-b58a-0242ac110003-3-1070-8df4-5058",
     "next": "16f20124-6e4b-11ee-b58a-0242ac110003-3-75a9-3e66-d2b2",
     "previous": "16f200ca-6e4b-11ee-b58a-0242ac110003-3-28ea-ec03-2cc9"
    }
   },
   "source": [
    "次のセルを実行すると入力枠が表示されるのでアクセストークンの値を入力してください。\n",
    "\n",
    "> アクセストークン入力後に Enter キーを押すことで入力が完了します。"
   ]
  },
  {
   "cell_type": "code",
   "execution_count": null,
   "metadata": {
    "lc_cell_meme": {
     "current": "16f20124-6e4b-11ee-b58a-0242ac110003-3-75a9-3e66-d2b2",
     "next": "16f2014c-6e4b-11ee-b58a-0242ac110003-3-7da1-d545-68ec",
     "previous": "16f200f2-6e4b-11ee-b58a-0242ac110003-3-1070-8df4-5058"
    },
    "lc_wrapper": {},
    "tags": [
     "vcp:skip",
     "vcp:parameters"
    ]
   },
   "outputs": [],
   "source": [
    "from getpass import getpass\n",
    "vcc_access_token = getpass()"
   ]
  },
  {
   "cell_type": "markdown",
   "metadata": {
    "lc_cell_meme": {
     "current": "16f2014c-6e4b-11ee-b58a-0242ac110003-3-7da1-d545-68ec",
     "next": "16f20174-6e4b-11ee-b58a-0242ac110003-3-5b65-9163-51e7",
     "previous": "16f20124-6e4b-11ee-b58a-0242ac110003-3-75a9-3e66-d2b2"
    }
   },
   "source": [
    "入力されたアクセストークンが正しいことを、実際にVCCにアクセスして確認します。"
   ]
  },
  {
   "cell_type": "code",
   "execution_count": null,
   "metadata": {
    "lc_cell_meme": {
     "current": "16f20174-6e4b-11ee-b58a-0242ac110003-3-5b65-9163-51e7",
     "next": "16f2019c-6e4b-11ee-b58a-0242ac110003-3-061d-c34b-3318",
     "previous": "16f2014c-6e4b-11ee-b58a-0242ac110003-3-7da1-d545-68ec"
    },
    "lc_wrapper": {},
    "tags": [
     "vcp:rewrite:vcpsdk"
    ]
   },
   "outputs": [],
   "source": [
    "from common import logsetting\n",
    "from vcpsdk.vcpsdk import VcpSDK\n",
    "\n",
    "vcp = VcpSDK(vcc_access_token)"
   ]
  },
  {
   "cell_type": "markdown",
   "metadata": {
    "lc_cell_meme": {
     "current": "16f2019c-6e4b-11ee-b58a-0242ac110003-3-061d-c34b-3318",
     "next": "16f20b42-6e4b-11ee-b58a-0242ac110003-3-a9a8-90d4-8009",
     "previous": "16f20174-6e4b-11ee-b58a-0242ac110003-3-5b65-9163-51e7"
    }
   },
   "source": [
    "上のセルの実行結果がエラーとなり以下のようなメッセージが表示されている場合は、入力されたアクセストークンに誤りがあります。\n",
    "\n",
    "```\n",
    "ERROR - config vc failed: http_status(403)\n",
    "ERROR - 2021/XX/XX XX:XX:XX UTC: VCPAuthException: xxxxxxx:token lookup is failed: permission denied\n",
    "```\n",
    "\n",
    "エラーになった場合は、もう一度アクセストークンの入力のセルを`unfreeze` し、アクセストークンの入力をやり直してください。"
   ]
  },
  {
   "cell_type": "markdown",
   "metadata": {
    "lc_cell_meme": {
     "current": "16f20b42-6e4b-11ee-b58a-0242ac110003-3-a9a8-90d4-8009",
     "next": "16f20b74-6e4b-11ee-b58a-0242ac110003-3-f308-7f0c-3656",
     "previous": "16f2019c-6e4b-11ee-b58a-0242ac110003-3-061d-c34b-3318"
    }
   },
   "source": [
    "## パラメータの設定の確認"
   ]
  },
  {
   "cell_type": "markdown",
   "metadata": {
    "lc_cell_meme": {
     "current": "16f20b74-6e4b-11ee-b58a-0242ac110003-3-f308-7f0c-3656",
     "next": "16f20c50-6e4b-11ee-b58a-0242ac110003-3-68a8-684a-9674",
     "previous": "16f20b42-6e4b-11ee-b58a-0242ac110003-3-a9a8-90d4-8009"
    }
   },
   "source": [
    "テンプレートでは、パラメータの保存形式は `Ansible` のフォーマットに従い、`group_vars/` のYAMLファイルとして保存します。"
   ]
  },
  {
   "cell_type": "markdown",
   "metadata": {
    "lc_cell_meme": {
     "current": "16f20c50-6e4b-11ee-b58a-0242ac110003-3-68a8-684a-9674",
     "next": "16f20c82-6e4b-11ee-b58a-0242ac110003-3-3abe-cf45-b89e",
     "previous": "16f20b74-6e4b-11ee-b58a-0242ac110003-3-f308-7f0c-3656"
    }
   },
   "source": [
    "group_vars ファイルの内容を表示して保存されたパラメータを確認します。"
   ]
  },
  {
   "cell_type": "code",
   "execution_count": null,
   "metadata": {
    "lc_cell_meme": {
     "current": "16f20c82-6e4b-11ee-b58a-0242ac110003-3-3abe-cf45-b89e",
     "next": "67393d14-71d4-11ee-b58a-0242ac110003-2-2dd2-e833",
     "previous": "16f20c50-6e4b-11ee-b58a-0242ac110003-3-68a8-684a-9674"
    },
    "lc_wrapper": {}
   },
   "outputs": [],
   "source": [
    "!cat group_vars/{ugroup_name}"
   ]
  },
  {
   "cell_type": "markdown",
   "metadata": {
    "lc_cell_meme": {
     "current": "67393d14-71d4-11ee-b58a-0242ac110003-2-2dd2-e833",
     "next": "67393e2c-71d4-11ee-b58a-0242ac110003-2-be32-69c4",
     "previous": "16f20c82-6e4b-11ee-b58a-0242ac110003-3-3abe-cf45-b89e"
    }
   },
   "source": [
    "デフォルトパラメータの内容を表示します。"
   ]
  },
  {
   "cell_type": "code",
   "execution_count": null,
   "metadata": {
    "lc_cell_meme": {
     "current": "67393e2c-71d4-11ee-b58a-0242ac110003-2-be32-69c4",
     "next": "16f20070-6e4b-11ee-b58a-0242ac110003-3-cf12-a9ff-3fca",
     "previous": "67393d14-71d4-11ee-b58a-0242ac110003-2-2dd2-e833"
    },
    "lc_wrapper": {}
   },
   "outputs": [],
   "source": [
    "!cat group_vars/all/defaults.yml"
   ]
  },
  {
   "cell_type": "markdown",
   "metadata": {
    "lc_cell_meme": {
     "current": "16f20070-6e4b-11ee-b58a-0242ac110003-3-cf12-a9ff-3fca",
     "next": "82eb8948-6ef7-11ee-b58a-0242ac110003-4-3969-0705-f8d8-8441",
     "previous": "67393e2c-71d4-11ee-b58a-0242ac110003-2-be32-69c4"
    }
   },
   "source": [
    "## UnitGroup、VCノード等の確認\n",
    "以降の章では次のNotebookで構築する内容を確認します。\n",
    "- 011-VCノード作成-構成1.ipynb\n",
    "- 021-VCノード作成-構成2.ipynb\n",
    "- 031-VCノード作成-構成3.ipynb"
   ]
  },
  {
   "cell_type": "markdown",
   "metadata": {
    "lc_cell_meme": {
     "current": "82eb8948-6ef7-11ee-b58a-0242ac110003-4-3969-0705-f8d8-8441",
     "execution_end_time": "2023-10-20T03:20:10.085751Z",
     "next": "ca72c8bc-6ef7-11ee-b58a-0242ac110003-3-f114-3e43-8b2d",
     "previous": "16f20070-6e4b-11ee-b58a-0242ac110003-3-cf12-a9ff-3fca"
    },
    "lc_wrapper": {}
   },
   "source": [
    "### VCPバージョンの確認"
   ]
  },
  {
   "cell_type": "code",
   "execution_count": null,
   "metadata": {
    "lc_cell_meme": {
     "current": "ca72c8bc-6ef7-11ee-b58a-0242ac110003-3-f114-3e43-8b2d",
     "next": "123428f8-6ef8-11ee-b58a-0242ac110003-3-e32c-ea45-9fd8",
     "previous": "82eb8948-6ef7-11ee-b58a-0242ac110003-4-3969-0705-f8d8-8441"
    },
    "lc_wrapper": {}
   },
   "outputs": [],
   "source": [
    "vcp.version()"
   ]
  },
  {
   "cell_type": "markdown",
   "metadata": {
    "lc_cell_meme": {
     "current": "123428f8-6ef8-11ee-b58a-0242ac110003-3-e32c-ea45-9fd8",
     "next": "16f201d8-6e4b-11ee-b58a-0242ac110003-3-7cef-5f7f-6658",
     "previous": "ca72c8bc-6ef7-11ee-b58a-0242ac110003-3-f114-3e43-8b2d"
    }
   },
   "source": [
    "### 作成済みのUnitGroup、Unit、VCノードの確認"
   ]
  },
  {
   "cell_type": "markdown",
   "metadata": {
    "lc_cell_meme": {
     "current": "16f201d8-6e4b-11ee-b58a-0242ac110003-3-7cef-5f7f-6658",
     "next": "ca72c9ac-6ef7-11ee-b58a-0242ac110003-3-610b-6d00-155a",
     "previous": "123428f8-6ef8-11ee-b58a-0242ac110003-3-e32c-ea45-9fd8"
    }
   },
   "source": [
    "#### UnitGroup一覧"
   ]
  },
  {
   "cell_type": "code",
   "execution_count": null,
   "metadata": {
    "lc_cell_meme": {
     "current": "ca72c9ac-6ef7-11ee-b58a-0242ac110003-3-610b-6d00-155a",
     "next": "82eb8a4c-6ef7-11ee-b58a-0242ac110003-4-bffa-02e6-c04a-4601",
     "previous": "16f201d8-6e4b-11ee-b58a-0242ac110003-3-7cef-5f7f-6658"
    },
    "lc_wrapper": {}
   },
   "outputs": [],
   "source": [
    "vcp.df_ugroups()"
   ]
  },
  {
   "cell_type": "markdown",
   "metadata": {
    "lc_cell_meme": {
     "current": "82eb8a4c-6ef7-11ee-b58a-0242ac110003-4-bffa-02e6-c04a-4601",
     "execution_end_time": "2023-10-20T03:24:49.568831Z",
     "next": "ec275b7c-717b-11ee-b58a-0242ac110003-3-9940-b52c-9929",
     "previous": "ca72c9ac-6ef7-11ee-b58a-0242ac110003-3-610b-6d00-155a"
    },
    "lc_wrapper": {}
   },
   "source": [
    "#### 情報収集対象のUnitGroupのUnitとNodeの一覧"
   ]
  },
  {
   "cell_type": "code",
   "execution_count": null,
   "metadata": {
    "lc_cell_meme": {
     "current": "ec275b7c-717b-11ee-b58a-0242ac110003-3-9940-b52c-9929",
     "next": "7b37aa4c-717c-11ee-b58a-0242ac110003-3-ed1d-2908-48f8",
     "previous": "82eb8a4c-6ef7-11ee-b58a-0242ac110003-4-bffa-02e6-c04a-4601"
    },
    "lc_wrapper": {}
   },
   "outputs": [],
   "source": [
    "ug = vcp.get_ugroup(ugroup_name)\n",
    "ug.df_units()\n"
   ]
  },
  {
   "cell_type": "code",
   "execution_count": null,
   "metadata": {
    "lc_cell_meme": {
     "current": "7b37aa4c-717c-11ee-b58a-0242ac110003-3-ed1d-2908-48f8",
     "next": "16f21358-6e4b-11ee-b58a-0242ac110003-3-b453-829b-3cae",
     "previous": "ec275b7c-717b-11ee-b58a-0242ac110003-3-9940-b52c-9929"
    },
    "lc_wrapper": {}
   },
   "outputs": [],
   "source": [
    "ug.df_nodes()"
   ]
  },
  {
   "cell_type": "markdown",
   "metadata": {
    "lc_cell_meme": {
     "current": "16f21358-6e4b-11ee-b58a-0242ac110003-3-b453-829b-3cae",
     "next": "16f213da-6e4b-11ee-b58a-0242ac110003-3-f0d6-66b2-6ff1",
     "previous": "7b37aa4c-717c-11ee-b58a-0242ac110003-3-ed1d-2908-48f8"
    }
   },
   "source": [
    "## Ansibleの確認\n"
   ]
  },
  {
   "cell_type": "markdown",
   "metadata": {
    "lc_cell_meme": {
     "current": "16f213da-6e4b-11ee-b58a-0242ac110003-3-f0d6-66b2-6ff1",
     "next": "16f2142a-6e4b-11ee-b58a-0242ac110003-3-68d4-f578-85c6",
     "previous": "16f21358-6e4b-11ee-b58a-0242ac110003-3-b453-829b-3cae"
    }
   },
   "source": [
    "### インベントリファイルの確認"
   ]
  },
  {
   "cell_type": "markdown",
   "metadata": {
    "lc_cell_meme": {
     "current": "16f2142a-6e4b-11ee-b58a-0242ac110003-3-68d4-f578-85c6",
     "next": "16f2145c-6e4b-11ee-b58a-0242ac110003-3-f22f-5a36-66be",
     "previous": "16f213da-6e4b-11ee-b58a-0242ac110003-3-f0d6-66b2-6ff1"
    }
   },
   "source": [
    "次のセルを実行すると作成したインベントリの内容を表示します。"
   ]
  },
  {
   "cell_type": "code",
   "execution_count": null,
   "metadata": {
    "lc_cell_meme": {
     "current": "16f2145c-6e4b-11ee-b58a-0242ac110003-3-f22f-5a36-66be",
     "next": "16f21484-6e4b-11ee-b58a-0242ac110003-3-7d8c-15c9-2725",
     "previous": "16f2142a-6e4b-11ee-b58a-0242ac110003-3-68d4-f578-85c6"
    },
    "lc_wrapper": {}
   },
   "outputs": [],
   "source": [
    "!cat inventory.yml"
   ]
  },
  {
   "cell_type": "markdown",
   "metadata": {
    "lc_cell_meme": {
     "current": "16f21484-6e4b-11ee-b58a-0242ac110003-3-7d8c-15c9-2725",
     "next": "16f214de-6e4b-11ee-b58a-0242ac110003-3-6184-91d2-81ac",
     "previous": "16f2145c-6e4b-11ee-b58a-0242ac110003-3-f22f-5a36-66be"
    }
   },
   "source": [
    "###  コンフィギュレーションファイルの確認\n"
   ]
  },
  {
   "cell_type": "markdown",
   "metadata": {
    "lc_cell_meme": {
     "current": "16f214de-6e4b-11ee-b58a-0242ac110003-3-6184-91d2-81ac",
     "next": "16f21506-6e4b-11ee-b58a-0242ac110003-3-e50d-592d-dbed",
     "previous": "16f21484-6e4b-11ee-b58a-0242ac110003-3-7d8c-15c9-2725"
    }
   },
   "source": [
    "次のセルを実行すると作成したコンフィギュレーションファイルの内容を表示します。"
   ]
  },
  {
   "cell_type": "code",
   "execution_count": null,
   "metadata": {
    "lc_cell_meme": {
     "current": "16f21506-6e4b-11ee-b58a-0242ac110003-3-e50d-592d-dbed",
     "next": "16f2152e-6e4b-11ee-b58a-0242ac110003-3-e16e-ade3-e161",
     "previous": "16f214de-6e4b-11ee-b58a-0242ac110003-3-6184-91d2-81ac"
    },
    "lc_wrapper": {}
   },
   "outputs": [],
   "source": [
    "!cat ansible.cfg"
   ]
  },
  {
   "cell_type": "markdown",
   "metadata": {
    "lc_cell_meme": {
     "current": "16f2152e-6e4b-11ee-b58a-0242ac110003-3-e16e-ade3-e161",
     "next": "16f21560-6e4b-11ee-b58a-0242ac110003-3-a7ad-b777-d3c0",
     "previous": "16f21506-6e4b-11ee-b58a-0242ac110003-3-e50d-592d-dbed"
    }
   },
   "source": [
    "### Ansibleを使った登録済みノードへの接続の確認\n",
    "UnitGroupに属する全てのVCノードに対して Ansible で接続できることを確認します。\n",
    "\n",
    "> ここでは、複数のVCノードをまとめて扱うためにAnsibleのグループを指定しています。テンプレートではグループ名は UnitGroup名と同じ値にしてあります。"
   ]
  },
  {
   "cell_type": "code",
   "execution_count": null,
   "metadata": {
    "lc_cell_meme": {
     "current": "16f21560-6e4b-11ee-b58a-0242ac110003-3-a7ad-b777-d3c0",
     "next": "16f21588-6e4b-11ee-b58a-0242ac110003-3-5051-7def-9a05",
     "previous": "16f2152e-6e4b-11ee-b58a-0242ac110003-3-e16e-ade3-e161"
    },
    "lc_wrapper": {}
   },
   "outputs": [],
   "source": [
    "!ansible {ugroup_name} -m ping"
   ]
  },
  {
   "cell_type": "markdown",
   "metadata": {
    "lc_cell_meme": {
     "current": "16f21588-6e4b-11ee-b58a-0242ac110003-3-5051-7def-9a05",
     "next": "d2278c80-7165-11ee-b58a-0242ac110003-4-1905-9fc9-1a27-5cbc",
     "previous": "16f21560-6e4b-11ee-b58a-0242ac110003-3-a7ad-b777-d3c0"
    }
   },
   "source": [
    "## NFSの確認\n"
   ]
  },
  {
   "cell_type": "markdown",
   "metadata": {
    "lc_cell_meme": {
     "current": "d2278c80-7165-11ee-b58a-0242ac110003-4-1905-9fc9-1a27-5cbc",
     "execution_end_time": "2023-10-23T05:34:29.122334Z",
     "next": "16f215b0-6e4b-11ee-b58a-0242ac110003-3-f78f-a8c1-7650",
     "previous": "16f21588-6e4b-11ee-b58a-0242ac110003-3-5051-7def-9a05"
    },
    "lc_wrapper": {}
   },
   "source": [
    "### NFSサーバの確認"
   ]
  },
  {
   "cell_type": "markdown",
   "metadata": {
    "lc_cell_meme": {
     "current": "16f215b0-6e4b-11ee-b58a-0242ac110003-3-f78f-a8c1-7650",
     "next": "16f215e2-6e4b-11ee-b58a-0242ac110003-3-3edb-a96f-6d68",
     "previous": "d2278c80-7165-11ee-b58a-0242ac110003-4-1905-9fc9-1a27-5cbc"
    }
   },
   "source": [
    "NFSサーバのサービス状態を確認します。"
   ]
  },
  {
   "cell_type": "code",
   "execution_count": null,
   "metadata": {
    "lc_cell_meme": {
     "current": "16f215e2-6e4b-11ee-b58a-0242ac110003-3-3edb-a96f-6d68",
     "next": "16f2160a-6e4b-11ee-b58a-0242ac110003-3-03e5-5684-e091",
     "previous": "16f215b0-6e4b-11ee-b58a-0242ac110003-3-f78f-a8c1-7650"
    },
    "lc_wrapper": {}
   },
   "outputs": [],
   "source": [
    "!ansible {nfs_target} -b -a 'systemctl status nfs-server'"
   ]
  },
  {
   "cell_type": "markdown",
   "metadata": {
    "lc_cell_meme": {
     "current": "16f2160a-6e4b-11ee-b58a-0242ac110003-3-03e5-5684-e091",
     "next": "16f21632-6e4b-11ee-b58a-0242ac110003-3-a22e-1fb7-5eb0",
     "previous": "16f215e2-6e4b-11ee-b58a-0242ac110003-3-3edb-a96f-6d68"
    }
   },
   "source": [
    "NFSエクスポートの状態を確認します。テンプレートではmanagerノードの起動時は全てのノードに対してアクセス可能な状態に設定されています。その後workerノードを起動してNFSクライアントのIPアドレスが確定した時点で`/etc/exports`の設定を更新し、アクセスできるノードの制限を行います。"
   ]
  },
  {
   "cell_type": "code",
   "execution_count": null,
   "metadata": {
    "lc_cell_meme": {
     "current": "16f21632-6e4b-11ee-b58a-0242ac110003-3-a22e-1fb7-5eb0",
     "next": "16f21664-6e4b-11ee-b58a-0242ac110003-3-11d6-a98a-e87e",
     "previous": "16f2160a-6e4b-11ee-b58a-0242ac110003-3-03e5-5684-e091"
    },
    "lc_wrapper": {}
   },
   "outputs": [],
   "source": [
    "!ansible {nfs_target} -b -a 'exportfs -v'"
   ]
  },
  {
   "cell_type": "markdown",
   "metadata": {
    "lc_cell_meme": {
     "current": "16f21664-6e4b-11ee-b58a-0242ac110003-3-11d6-a98a-e87e",
     "next": "16f2168c-6e4b-11ee-b58a-0242ac110003-3-b9b2-b04f-b59a",
     "previous": "16f21632-6e4b-11ee-b58a-0242ac110003-3-a22e-1fb7-5eb0"
    }
   },
   "source": [
    "ディレクトリのパーミッションを設定します。\n",
    "テンプレートでは777が設定されます。"
   ]
  },
  {
   "cell_type": "code",
   "execution_count": null,
   "metadata": {
    "lc_cell_meme": {
     "current": "16f2168c-6e4b-11ee-b58a-0242ac110003-3-b9b2-b04f-b59a",
     "next": "16f219e8-6e4b-11ee-b58a-0242ac110003-3-32f0-48a6-ebc2",
     "previous": "16f21664-6e4b-11ee-b58a-0242ac110003-3-11d6-a98a-e87e"
    },
    "lc_wrapper": {},
    "scrolled": true
   },
   "outputs": [],
   "source": [
    "if 'nfs_target' in gvars:\n",
    "    !ansible {nfs_target} -b -a 'ls -al /exported/{ugroup_name}'\n",
    "else:\n",
    "    !ansible {nfs_target} -b -a 'ls -al /exchange'\n",
    "    !ansible {nfs_target} -b -a 'ls -al /jupyter'"
   ]
  },
  {
   "cell_type": "markdown",
   "metadata": {
    "lc_cell_meme": {
     "current": "16f219e8-6e4b-11ee-b58a-0242ac110003-3-32f0-48a6-ebc2",
     "next": "16f21a10-6e4b-11ee-b58a-0242ac110003-4-21d9-6295-2e2d-12ad",
     "previous": "16f2168c-6e4b-11ee-b58a-0242ac110003-3-b9b2-b04f-b59a"
    }
   },
   "source": [
    "### managerノードでのNFSマウント状況の出力\n",
    "managerノードにNFSサーバを配置する構成の場合はスキップしてください。"
   ]
  },
  {
   "cell_type": "markdown",
   "metadata": {
    "lc_cell_meme": {
     "current": "16f21a10-6e4b-11ee-b58a-0242ac110003-4-21d9-6295-2e2d-12ad",
     "next": "16f21a38-6e4b-11ee-b58a-0242ac110003-4-aa46-fd88-11ab-094a",
     "previous": "16f219e8-6e4b-11ee-b58a-0242ac110003-3-32f0-48a6-ebc2"
    }
   },
   "source": [
    "managerノードにおけるNFSマウントの状態を確認します。`/exchange`, `/jupyter`のエントリが存在していることを確認してください。"
   ]
  },
  {
   "cell_type": "code",
   "execution_count": null,
   "metadata": {
    "lc_cell_meme": {
     "current": "16f21a38-6e4b-11ee-b58a-0242ac110003-4-aa46-fd88-11ab-094a",
     "next": "16f21b0a-6e4b-11ee-b58a-0242ac110003-4-c342-7487-4213-a185",
     "previous": "16f21a10-6e4b-11ee-b58a-0242ac110003-4-21d9-6295-2e2d-12ad"
    },
    "lc_wrapper": {}
   },
   "outputs": [],
   "source": [
    "!ansible {ugroup_name}_{manager_name} -a 'mount -t nfs4'"
   ]
  },
  {
   "cell_type": "markdown",
   "metadata": {
    "lc_cell_meme": {
     "current": "16f21b0a-6e4b-11ee-b58a-0242ac110003-4-c342-7487-4213-a185",
     "next": "16f21b3c-6e4b-11ee-b58a-0242ac110003-4-4e23-ff07-a72b-36cc",
     "previous": "16f21a38-6e4b-11ee-b58a-0242ac110003-4-aa46-fd88-11ab-094a"
    }
   },
   "source": [
    "NFSサーバ側に作成したファイルをNFSクライアント側で参照できることを確認します。"
   ]
  },
  {
   "cell_type": "code",
   "execution_count": null,
   "metadata": {
    "lc_cell_meme": {
     "current": "16f21b3c-6e4b-11ee-b58a-0242ac110003-4-4e23-ff07-a72b-36cc",
     "next": "16f219e8-6e4b-11ee-b58a-0242ac110003-4-32f0-6707-82a8-9555",
     "previous": "16f21b0a-6e4b-11ee-b58a-0242ac110003-4-c342-7487-4213-a185"
    },
    "lc_wrapper": {},
    "scrolled": true
   },
   "outputs": [],
   "source": [
    "if 'nfs_target' in gvars:\n",
    "    !ansible {nfs_target} -m file -a 'path=/exported/{ugroup_name}/jupyter/xxx state=touch'\n",
    "    !ansible {nfs_target} -m file -a 'path=/exported/{ugroup_name}/exchange/xxx state=touch'\n",
    "else:\n",
    "    !ansible {nfs_target} -m file -a 'path=/jupyter/xxx state=touch'\n",
    "    !ansible {nfs_target} -m file -a 'path=/exchange/xxx state=touch'\n",
    "\n",
    "!ansible {ugroup_name}_{manager_name} -a 'test -f /jupyter/xxx'\n",
    "!ansible {ugroup_name}_{manager_name} -a 'test -f /exchange/xxx'\n",
    "!ansible {ugroup_name} -m file -a 'path=/jupyter/xxx state=absent'\n",
    "!ansible {ugroup_name} -m file -a 'path=/exchange/xxx state=absent'"
   ]
  },
  {
   "cell_type": "markdown",
   "metadata": {
    "lc_cell_meme": {
     "current": "16f219e8-6e4b-11ee-b58a-0242ac110003-4-32f0-6707-82a8-9555",
     "next": "16f21a10-6e4b-11ee-b58a-0242ac110003-3-21d9-3440-58bc",
     "previous": "16f21b3c-6e4b-11ee-b58a-0242ac110003-4-4e23-ff07-a72b-36cc"
    }
   },
   "source": [
    "### workerノードでのNFSマウント状況の出力"
   ]
  },
  {
   "cell_type": "markdown",
   "metadata": {
    "lc_cell_meme": {
     "current": "16f21a10-6e4b-11ee-b58a-0242ac110003-3-21d9-3440-58bc",
     "next": "16f21a38-6e4b-11ee-b58a-0242ac110003-3-aa46-11e4-6658",
     "previous": "16f219e8-6e4b-11ee-b58a-0242ac110003-4-32f0-6707-82a8-9555"
    }
   },
   "source": [
    "workerノードにおけるNFSマウントの状態を確認します。`/exchange`, `/jupyter`のエントリが存在していることを確認してください。"
   ]
  },
  {
   "cell_type": "code",
   "execution_count": null,
   "metadata": {
    "lc_cell_meme": {
     "current": "16f21a38-6e4b-11ee-b58a-0242ac110003-3-aa46-11e4-6658",
     "next": "16f21b0a-6e4b-11ee-b58a-0242ac110003-3-c342-e3ad-5c66",
     "previous": "16f21a10-6e4b-11ee-b58a-0242ac110003-3-21d9-3440-58bc"
    },
    "lc_wrapper": {}
   },
   "outputs": [],
   "source": [
    "!ansible {ugroup_name}_{worker_name} -a 'mount -t nfs4'"
   ]
  },
  {
   "cell_type": "markdown",
   "metadata": {
    "lc_cell_meme": {
     "current": "16f21b0a-6e4b-11ee-b58a-0242ac110003-3-c342-e3ad-5c66",
     "next": "16f21b3c-6e4b-11ee-b58a-0242ac110003-3-4e23-374e-6541",
     "previous": "16f21a38-6e4b-11ee-b58a-0242ac110003-3-aa46-11e4-6658"
    }
   },
   "source": [
    "NFSサーバ側に作成したファイルをNFSクライアント側で参照できることを確認します。"
   ]
  },
  {
   "cell_type": "code",
   "execution_count": null,
   "metadata": {
    "lc_cell_meme": {
     "current": "16f21b3c-6e4b-11ee-b58a-0242ac110003-3-4e23-374e-6541",
     "next": "16f21b64-6e4b-11ee-b58a-0242ac110003-3-2028-7a4b-e227",
     "previous": "16f21b0a-6e4b-11ee-b58a-0242ac110003-3-c342-e3ad-5c66"
    },
    "lc_wrapper": {},
    "scrolled": true
   },
   "outputs": [],
   "source": [
    "if 'nfs_target' in gvars:\n",
    "    !ansible {nfs_target} -m file -a 'path=/exported/{ugroup_name}/jupyter/xxx state=touch'\n",
    "    !ansible {nfs_target} -m file -a 'path=/exported/{ugroup_name}/exchange/xxx state=touch'\n",
    "else:\n",
    "    !ansible {nfs_target} -m file -a 'path=/jupyter/xxx state=touch'\n",
    "    !ansible {nfs_target} -m file -a 'path=/exchange/xxx state=touch'\n",
    "\n",
    "!ansible {ugroup_name}_{worker_name} -a 'test -f /jupyter/xxx'\n",
    "!ansible {ugroup_name}_{worker_name} -a 'test -f /exchange/xxx'\n",
    "!ansible {ugroup_name} -m file -a 'path=/jupyter/xxx state=absent'\n",
    "!ansible {ugroup_name} -m file -a 'path=/exchange/xxx state=absent'"
   ]
  },
  {
   "cell_type": "markdown",
   "metadata": {
    "lc_cell_meme": {
     "current": "16f21b64-6e4b-11ee-b58a-0242ac110003-3-2028-7a4b-e227",
     "next": "16f21b96-6e4b-11ee-b58a-0242ac110003-3-ab3e-7dcf-e5fd",
     "previous": "16f21b3c-6e4b-11ee-b58a-0242ac110003-3-4e23-374e-6541"
    }
   },
   "source": [
    "## Docker Swarmの設定の確認\n",
    "\n"
   ]
  },
  {
   "cell_type": "markdown",
   "metadata": {
    "lc_cell_meme": {
     "current": "16f21b96-6e4b-11ee-b58a-0242ac110003-3-ab3e-7dcf-e5fd",
     "next": "16f21bbe-6e4b-11ee-b58a-0242ac110003-3-fd68-9e92-791e",
     "previous": "16f21b64-6e4b-11ee-b58a-0242ac110003-3-2028-7a4b-e227"
    }
   },
   "source": [
    "各VCノードで Docker Engine が実行されていることを確認します。"
   ]
  },
  {
   "cell_type": "code",
   "execution_count": null,
   "metadata": {
    "lc_cell_meme": {
     "current": "16f21bbe-6e4b-11ee-b58a-0242ac110003-3-fd68-9e92-791e",
     "next": "16f21cea-6e4b-11ee-b58a-0242ac110003-3-1bf7-a0a7-16f2",
     "previous": "16f21b96-6e4b-11ee-b58a-0242ac110003-3-ab3e-7dcf-e5fd"
    },
    "lc_wrapper": {},
    "scrolled": true
   },
   "outputs": [],
   "source": [
    "!ansible {ugroup_name} -a 'docker info'"
   ]
  },
  {
   "cell_type": "markdown",
   "metadata": {
    "lc_cell_meme": {
     "current": "16f21cea-6e4b-11ee-b58a-0242ac110003-3-1bf7-a0a7-16f2",
     "next": "16f21d12-6e4b-11ee-b58a-0242ac110003-3-576d-e5a3-204b",
     "previous": "16f21bbe-6e4b-11ee-b58a-0242ac110003-3-fd68-9e92-791e"
    }
   },
   "source": [
    "Docker Swarmのノード一覧を表示します。"
   ]
  },
  {
   "cell_type": "code",
   "execution_count": null,
   "metadata": {
    "lc_cell_meme": {
     "current": "16f21d12-6e4b-11ee-b58a-0242ac110003-3-576d-e5a3-204b",
     "next": "e33ccb38-71cf-11ee-b58a-0242ac110003-2-db96-746f",
     "previous": "16f21cea-6e4b-11ee-b58a-0242ac110003-3-1bf7-a0a7-16f2"
    },
    "lc_wrapper": {},
    "scrolled": false
   },
   "outputs": [],
   "source": [
    "!ansible {ugroup_name}_{manager_name} -a 'docker node ls'"
   ]
  },
  {
   "cell_type": "code",
   "execution_count": null,
   "metadata": {
    "lc_cell_meme": {
     "current": "e33ccb38-71cf-11ee-b58a-0242ac110003-2-db96-746f",
     "next": "16f21d3a-6e4b-11ee-b58a-0242ac110003-3-d843-38af-c4d7",
     "previous": "16f21d12-6e4b-11ee-b58a-0242ac110003-3-576d-e5a3-204b"
    },
    "lc_wrapper": {}
   },
   "outputs": [],
   "source": [
    "!ansible {ugroup_name}_{manager_name} -m shell -a \\\n",
    "    'docker node ls -q'"
   ]
  },
  {
   "cell_type": "markdown",
   "metadata": {
    "lc_cell_meme": {
     "current": "16f21d3a-6e4b-11ee-b58a-0242ac110003-3-d843-38af-c4d7",
     "next": "16f21d62-6e4b-11ee-b58a-0242ac110003-3-75ed-3f95-ee08",
     "previous": "e33ccb38-71cf-11ee-b58a-0242ac110003-2-db96-746f"
    }
   },
   "source": [
    "Docker Swarmのノード数が起動したVCノードと一致していることを確認します。"
   ]
  },
  {
   "cell_type": "code",
   "execution_count": null,
   "metadata": {
    "lc_cell_meme": {
     "current": "16f21d62-6e4b-11ee-b58a-0242ac110003-3-75ed-3f95-ee08",
     "next": "f10de5a0-7295-11ee-857a-0242ac110003-1-8ed8",
     "previous": "16f21d3a-6e4b-11ee-b58a-0242ac110003-3-d843-38af-c4d7"
    },
    "lc_wrapper": {}
   },
   "outputs": [],
   "source": [
    "worker_nodes = gvars['worker_nodes']\n",
    "!ansible {ugroup_name}_{manager_name} -m shell -a \\\n",
    "    'test $(docker node ls -q | wc -l) -eq {worker_nodes + 1}'"
   ]
  },
  {
   "cell_type": "markdown",
   "metadata": {
    "lc_cell_meme": {
     "current": "f10de5a0-7295-11ee-857a-0242ac110003-1-8ed8",
     "next": "f865a3c0-7172-11ee-b58a-0242ac110003-4-3470-dbc6-0398-ef71",
     "previous": "16f21d62-6e4b-11ee-b58a-0242ac110003-3-75ed-3f95-ee08"
    }
   },
   "source": [
    "## CoursewareHubのセットアップパラメータの確認\n",
    "以降の章では次のNotebookで構築する内容を確認します。\n",
    "- 121-CoursewareHubのセットアップ-ローカルユーザ認証.ipynb\n",
    "- 221-CoursewareHubのセットアップ.ipynb\n",
    "- 321-CoursewareHubのセットアップ.ipynb\n"
   ]
  },
  {
   "cell_type": "markdown",
   "metadata": {
    "lc_cell_meme": {
     "current": "f865a3c0-7172-11ee-b58a-0242ac110003-4-3470-dbc6-0398-ef71",
     "execution_end_time": "2023-10-23T07:08:40.028484Z",
     "next": "85622386-71d5-11ee-b58a-0242ac110003-2-e57d-c9f7",
     "previous": "f10de5a0-7295-11ee-857a-0242ac110003-1-8ed8"
    },
    "lc_wrapper": {}
   },
   "source": [
    "### リソース制限の設定を行うYAMLファイルの確認"
   ]
  },
  {
   "cell_type": "markdown",
   "metadata": {
    "lc_cell_meme": {
     "current": "85622386-71d5-11ee-b58a-0242ac110003-2-e57d-c9f7",
     "next": "aec1e32a-71d4-11ee-b58a-0242ac110003-2-767c-4f79",
     "previous": "f865a3c0-7172-11ee-b58a-0242ac110003-4-3470-dbc6-0398-ef71"
    }
   },
   "source": [
    "作成したファイルの内容を表示します。"
   ]
  },
  {
   "cell_type": "code",
   "execution_count": null,
   "metadata": {
    "lc_cell_meme": {
     "current": "aec1e32a-71d4-11ee-b58a-0242ac110003-2-767c-4f79",
     "next": "8562248a-71d5-11ee-b58a-0242ac110003-2-22b1-3ec7",
     "previous": "85622386-71d5-11ee-b58a-0242ac110003-2-e57d-c9f7"
    },
    "lc_wrapper": {}
   },
   "outputs": [],
   "source": [
    "rsc_yml = gvars['rsc_yml']\n",
    "!cat {rsc_yml}"
   ]
  },
  {
   "cell_type": "markdown",
   "metadata": {
    "lc_cell_meme": {
     "current": "8562248a-71d5-11ee-b58a-0242ac110003-2-22b1-3ec7",
     "next": "856224d0-71d5-11ee-b58a-0242ac110003-2-c236-518c",
     "previous": "aec1e32a-71d4-11ee-b58a-0242ac110003-2-767c-4f79"
    }
   },
   "source": [
    "YAMLファイルの記述内容が妥当であるかをチェックします。\n",
    "\n",
    "次のセルが正常に実行できることを確認してください。実行結果がエラーとなった場合はYAMLファイルの記述内容に問題があります。"
   ]
  },
  {
   "cell_type": "code",
   "execution_count": null,
   "metadata": {
    "lc_cell_meme": {
     "current": "856224d0-71d5-11ee-b58a-0242ac110003-2-c236-518c",
     "next": "cce94e28-71d5-11ee-b58a-0242ac110003-2-88f8-afe0",
     "previous": "8562248a-71d5-11ee-b58a-0242ac110003-2-22b1-3ec7"
    },
    "lc_wrapper": {}
   },
   "outputs": [],
   "source": [
    "import jsonschema\n",
    "import json\n",
    "import yaml\n",
    "import os\n",
    "\n",
    "rsc_dir = Path(os.path.dirname(rsc_yml))\n",
    "\n",
    "!ansible -c local {ugroup_name}_{manager_name} -m get_url -a \\\n",
    "    'url=https://raw.githubusercontent.com/NII-cloud-operation/CoursewareHub-LC_platform/master/jupyterhub/resources-schema.json \\\n",
    "    dest={rsc_dir}/resources-schema.json'\n",
    "with (rsc_dir / 'resources-schema.json').open() as f:\n",
    "    resources_config_schema = json.load(f)\n",
    "\n",
    "with (rsc_dir / 'resource.yaml').open() as f:\n",
    "    resources_config = yaml.load(f, Loader=yaml.SafeLoader)\n",
    "    jsonschema.validate(resources_config, resources_config_schema)\n",
    "\n",
    "print(json.dumps(resources_config, indent=2))"
   ]
  },
  {
   "cell_type": "markdown",
   "metadata": {
    "lc_cell_meme": {
     "current": "cce94e28-71d5-11ee-b58a-0242ac110003-2-88f8-afe0",
     "next": "cce94f40-71d5-11ee-b58a-0242ac110003-2-0173-25a3",
     "previous": "856224d0-71d5-11ee-b58a-0242ac110003-2-c236-518c"
    }
   },
   "source": [
    "managerノード上に配置されたファイルの内容を表示します。"
   ]
  },
  {
   "cell_type": "code",
   "execution_count": null,
   "metadata": {
    "lc_cell_meme": {
     "current": "cce94f40-71d5-11ee-b58a-0242ac110003-2-0173-25a3",
     "next": "caa3a646-7210-11ee-b58a-0242ac110003-2-3724-69d2",
     "previous": "cce94e28-71d5-11ee-b58a-0242ac110003-2-88f8-afe0"
    },
    "lc_wrapper": {}
   },
   "outputs": [],
   "source": [
    "!ansible {ugroup_name}_{manager_name} -a 'cat {{{{jupyterhub_dir}}}}/resource.yaml'"
   ]
  },
  {
   "cell_type": "markdown",
   "metadata": {
    "lc_cell_meme": {
     "current": "caa3a646-7210-11ee-b58a-0242ac110003-2-3724-69d2",
     "next": "caa3a74a-7210-11ee-b58a-0242ac110003-2-80a2-122d",
     "previous": "cce94f40-71d5-11ee-b58a-0242ac110003-2-0173-25a3"
    }
   },
   "source": [
    "### オーバーレイネットワークの指定の確認"
   ]
  },
  {
   "cell_type": "markdown",
   "metadata": {
    "lc_cell_meme": {
     "current": "caa3a74a-7210-11ee-b58a-0242ac110003-2-80a2-122d",
     "next": "122bd934-7211-11ee-b58a-0242ac110003-2-a28a-07d4",
     "previous": "caa3a646-7210-11ee-b58a-0242ac110003-2-3724-69d2"
    }
   },
   "source": [
    "指定されたサブネットがVCノードに割り当てられているIPアドレスと重なっていないことをチェックします。次のセルを実行してエラーとならないことを確認してください。"
   ]
  },
  {
   "cell_type": "code",
   "execution_count": null,
   "metadata": {
    "lc_cell_meme": {
     "current": "122bd934-7211-11ee-b58a-0242ac110003-2-a28a-07d4",
     "next": "faa934aa-7247-11ee-857a-0242ac110003-1-4235",
     "previous": "caa3a74a-7210-11ee-b58a-0242ac110003-2-80a2-122d"
    },
    "lc_wrapper": {}
   },
   "outputs": [],
   "source": [
    "cousewarehub_backend = gvars['cousewarehub_backend']\n",
    "!ansible-playbook -v -e cousewarehub_backend={cousewarehub_backend} -l {ugroup_name} \\\n",
    "    playbooks/check-subnet.yml"
   ]
  },
  {
   "cell_type": "markdown",
   "metadata": {
    "lc_cell_meme": {
     "current": "faa934aa-7247-11ee-857a-0242ac110003-1-4235",
     "next": "3feccb74-7173-11ee-b58a-0242ac110003-4-9c20-e02b-96fd-b649",
     "previous": "122bd934-7211-11ee-b58a-0242ac110003-2-a28a-07d4"
    }
   },
   "source": [
    "## CoursewareHubのセットアップの確認"
   ]
  },
  {
   "cell_type": "markdown",
   "metadata": {
    "lc_cell_meme": {
     "current": "3feccb74-7173-11ee-b58a-0242ac110003-4-9c20-e02b-96fd-b649",
     "next": "87742118-7173-11ee-b58a-0242ac110003-3-21dd-e9ed-2f8a",
     "previous": "faa934aa-7247-11ee-857a-0242ac110003-1-4235"
    }
   },
   "source": [
    "### auth-proxyの確認"
   ]
  },
  {
   "cell_type": "markdown",
   "metadata": {
    "lc_cell_meme": {
     "current": "87742118-7173-11ee-b58a-0242ac110003-3-21dd-e9ed-2f8a",
     "next": "cf0721d8-7173-11ee-b58a-0242ac110003-3-ed14-7192-ec6e",
     "previous": "3feccb74-7173-11ee-b58a-0242ac110003-4-9c20-e02b-96fd-b649"
    }
   },
   "source": [
    "証明書が配置されていることを確認します。managerノードのサーバ証明書の内容を表示します。"
   ]
  },
  {
   "cell_type": "code",
   "execution_count": null,
   "metadata": {
    "lc_cell_meme": {
     "current": "cf0721d8-7173-11ee-b58a-0242ac110003-3-ed14-7192-ec6e",
     "next": "cf0722dc-7173-11ee-b58a-0242ac110003-3-1cea-3414-9e49",
     "previous": "87742118-7173-11ee-b58a-0242ac110003-3-21dd-e9ed-2f8a"
    },
    "lc_wrapper": {}
   },
   "outputs": [],
   "source": [
    "!ansible {ugroup_name}_{manager_name} -a \\\n",
    "    'openssl x509 -noout -text -in {{{{certs_dir}}}}/auth-proxy.cer'"
   ]
  },
  {
   "cell_type": "markdown",
   "metadata": {
    "lc_cell_meme": {
     "current": "cf0722dc-7173-11ee-b58a-0242ac110003-3-1cea-3414-9e49",
     "next": "cf072322-7173-11ee-b58a-0242ac110003-3-64e5-d3d2-8ba1",
     "previous": "cf0721d8-7173-11ee-b58a-0242ac110003-3-ed14-7192-ec6e"
    }
   },
   "source": [
    "秘密鍵の内容を表示します。"
   ]
  },
  {
   "cell_type": "code",
   "execution_count": null,
   "metadata": {
    "lc_cell_meme": {
     "current": "cf072322-7173-11ee-b58a-0242ac110003-3-64e5-d3d2-8ba1",
     "next": "cf072354-7173-11ee-b58a-0242ac110003-3-b4d2-0a4f-35f4",
     "previous": "cf0722dc-7173-11ee-b58a-0242ac110003-3-1cea-3414-9e49"
    },
    "lc_wrapper": {}
   },
   "outputs": [],
   "source": [
    "!ansible {ugroup_name}_{manager_name} -a \\\n",
    "    'sudo openssl rsa -noout -text -in  {{{{certs_dir}}}}/auth-proxy.key'"
   ]
  },
  {
   "cell_type": "markdown",
   "metadata": {
    "lc_cell_meme": {
     "current": "cf072354-7173-11ee-b58a-0242ac110003-3-b4d2-0a4f-35f4",
     "next": "cf07237c-7173-11ee-b58a-0242ac110003-3-f027-b1e4-c69b",
     "previous": "cf072322-7173-11ee-b58a-0242ac110003-3-64e5-d3d2-8ba1"
    }
   },
   "source": [
    "中間CA証明書を連結したサーバ証明書の内容を表示します。"
   ]
  },
  {
   "cell_type": "code",
   "execution_count": null,
   "metadata": {
    "lc_cell_meme": {
     "current": "cf07237c-7173-11ee-b58a-0242ac110003-3-f027-b1e4-c69b",
     "next": "7873d61c-7291-11ee-857a-0242ac110003-2-9595-eafe",
     "previous": "cf072354-7173-11ee-b58a-0242ac110003-3-b4d2-0a4f-35f4"
    },
    "lc_wrapper": {}
   },
   "outputs": [],
   "source": [
    "!ansible {ugroup_name}_{manager_name} -a \\\n",
    "    'openssl x509 -noout -text -in {{{{certs_dir}}}}/auth-proxy.chained.cer'"
   ]
  },
  {
   "cell_type": "markdown",
   "metadata": {
    "lc_cell_meme": {
     "current": "7873d61c-7291-11ee-857a-0242ac110003-2-9595-eafe",
     "next": "0783f2ce-7292-11ee-857a-0242ac110003-1-a7ba",
     "previous": "cf07237c-7173-11ee-b58a-0242ac110003-3-f027-b1e4-c69b"
    }
   },
   "source": [
    "直接学認フェデレーションを利用する場合は配置したメタデータ署名証明書のFingerprintを表示します。\n",
    "\n",
    "参考のため、証明書の fingerprintを記載しているURLを以下に示します。\n",
    "\n",
    "* 運用フェデレーション\n",
    "    - https://meatwiki.nii.ac.jp/confluence/display/GakuNinShibInstall/signer\n",
    "* テストフェデレーション\n",
    "    - https://www.gakunin.jp/join/test/rule"
   ]
  },
  {
   "cell_type": "code",
   "execution_count": null,
   "metadata": {
    "lc_cell_meme": {
     "current": "0783f2ce-7292-11ee-857a-0242ac110003-1-a7ba",
     "next": "1699cb04-7174-11ee-b58a-0242ac110003-3-58e3-7a16-f2a8",
     "previous": "7873d61c-7291-11ee-857a-0242ac110003-2-9595-eafe"
    },
    "lc_wrapper": {}
   },
   "outputs": [],
   "source": [
    "if 'federation' in gvars:\n",
    "    !ansible {ugroup_name}_{manager_name} -a 'chdir={{{{base_dir}}}}/certs openssl x509 -in gakunin-signer.cer -sha256 -fingerprint -noout'"
   ]
  },
  {
   "cell_type": "markdown",
   "metadata": {
    "lc_cell_meme": {
     "current": "1699cb04-7174-11ee-b58a-0242ac110003-3-58e3-7a16-f2a8",
     "next": "1699cc12-7174-11ee-b58a-0242ac110003-3-cf88-5f8c-3cd5",
     "previous": "0783f2ce-7292-11ee-857a-0242ac110003-1-a7ba"
    }
   },
   "source": [
    "auth-proxy コンテナイメージを取得したことを確認します。\n"
   ]
  },
  {
   "cell_type": "code",
   "execution_count": null,
   "metadata": {
    "lc_cell_meme": {
     "current": "1699cc12-7174-11ee-b58a-0242ac110003-3-cf88-5f8c-3cd5",
     "next": "a21f5980-728e-11ee-857a-0242ac110003-1-2975",
     "previous": "1699cb04-7174-11ee-b58a-0242ac110003-3-58e3-7a16-f2a8"
    },
    "lc_wrapper": {}
   },
   "outputs": [],
   "source": [
    "!ansible {ugroup_name}_{manager_name} -m shell -a 'docker images | grep auth-proxy'"
   ]
  },
  {
   "cell_type": "markdown",
   "metadata": {
    "lc_cell_meme": {
     "current": "a21f5980-728e-11ee-857a-0242ac110003-1-2975",
     "next": "a21f5a8e-728e-11ee-857a-0242ac110003-1-38ab",
     "previous": "1699cc12-7174-11ee-b58a-0242ac110003-3-cf88-5f8c-3cd5"
    }
   },
   "source": [
    "IdP-proxyを使用する場合は配置したIdP-proxyのサーバ証明書の内容を確認します。"
   ]
  },
  {
   "cell_type": "code",
   "execution_count": null,
   "metadata": {
    "lc_cell_meme": {
     "current": "a21f5a8e-728e-11ee-857a-0242ac110003-1-38ab",
     "next": "1699cc58-7174-11ee-b58a-0242ac110003-3-7b2e-528d-4510",
     "previous": "a21f5980-728e-11ee-857a-0242ac110003-1-2975"
    },
    "lc_wrapper": {}
   },
   "outputs": [],
   "source": [
    "if 'idp_proxy_certificate_path' in gvars:\n",
    "    !ansible {ugroup_name}_{manager_name} -a 'openssl x509 -in {{{{certs_dir}}}}/idp-proxy.cer -noout -text'"
   ]
  },
  {
   "cell_type": "markdown",
   "metadata": {
    "lc_cell_meme": {
     "current": "1699cc58-7174-11ee-b58a-0242ac110003-3-7b2e-528d-4510",
     "next": "1699cc8a-7174-11ee-b58a-0242ac110003-3-37c2-b906-8311",
     "previous": "a21f5a8e-728e-11ee-857a-0242ac110003-1-38ab"
    }
   },
   "source": [
    "auth-proxyコンテナのためにセットアップしたディレクトリの状態を確認します。\n"
   ]
  },
  {
   "cell_type": "code",
   "execution_count": null,
   "metadata": {
    "lc_cell_meme": {
     "current": "1699cc8a-7174-11ee-b58a-0242ac110003-3-37c2-b906-8311",
     "next": "1699ccbc-7174-11ee-b58a-0242ac110003-4-5548-b3f9-d7a5-3d80",
     "previous": "1699cc58-7174-11ee-b58a-0242ac110003-3-7b2e-528d-4510"
    },
    "lc_wrapper": {}
   },
   "outputs": [],
   "source": [
    "!ansible {ugroup_name}_{manager_name} -a 'tree {{{{base_dir}}}}'"
   ]
  },
  {
   "cell_type": "markdown",
   "metadata": {
    "lc_cell_meme": {
     "current": "1699ccbc-7174-11ee-b58a-0242ac110003-4-5548-b3f9-d7a5-3d80",
     "next": "5e229c4e-7174-11ee-b58a-0242ac110003-3-8f4e-7f0f-62b5",
     "previous": "1699cc8a-7174-11ee-b58a-0242ac110003-3-37c2-b906-8311"
    }
   },
   "source": [
    "### JupyterHubの確認"
   ]
  },
  {
   "cell_type": "markdown",
   "metadata": {
    "lc_cell_meme": {
     "current": "5e229c4e-7174-11ee-b58a-0242ac110003-3-8f4e-7f0f-62b5",
     "next": "a5ab694c-7174-11ee-b58a-0242ac110003-3-9a14-1da6-0b26",
     "previous": "1699ccbc-7174-11ee-b58a-0242ac110003-4-5548-b3f9-d7a5-3d80"
    }
   },
   "source": [
    "インストールされたファイルを確認します。"
   ]
  },
  {
   "cell_type": "code",
   "execution_count": null,
   "metadata": {
    "lc_cell_meme": {
     "current": "a5ab694c-7174-11ee-b58a-0242ac110003-3-9a14-1da6-0b26",
     "next": "a5ab6a50-7174-11ee-b58a-0242ac110003-3-6279-843e-2d8c",
     "previous": "5e229c4e-7174-11ee-b58a-0242ac110003-3-8f4e-7f0f-62b5"
    },
    "lc_wrapper": {}
   },
   "outputs": [],
   "source": [
    "!ansible {ugroup_name}_{manager_name} -a 'tree /srv/restuser'"
   ]
  },
  {
   "cell_type": "markdown",
   "metadata": {
    "lc_cell_meme": {
     "current": "a5ab6a50-7174-11ee-b58a-0242ac110003-3-6279-843e-2d8c",
     "next": "a5ab6a96-7174-11ee-b58a-0242ac110003-3-9888-a15b-0c81",
     "previous": "a5ab694c-7174-11ee-b58a-0242ac110003-3-9a14-1da6-0b26"
    }
   },
   "source": [
    "restuserはホスト環境のサービスとして実行します。インストールしたrestuserサービスの状態を確認します。次のセルの出力結果にActive: active (running) と表示されることを確認してください。"
   ]
  },
  {
   "cell_type": "code",
   "execution_count": null,
   "metadata": {
    "lc_cell_meme": {
     "current": "a5ab6a96-7174-11ee-b58a-0242ac110003-3-9888-a15b-0c81",
     "next": "a5ab6ad2-7174-11ee-b58a-0242ac110003-3-9f33-1504-7262",
     "previous": "a5ab6a50-7174-11ee-b58a-0242ac110003-3-6279-843e-2d8c"
    },
    "lc_wrapper": {}
   },
   "outputs": [],
   "source": [
    "!ansible {ugroup_name}_{manager_name} -b -a 'systemctl status restuser'"
   ]
  },
  {
   "cell_type": "markdown",
   "metadata": {
    "lc_cell_meme": {
     "current": "a5ab6ad2-7174-11ee-b58a-0242ac110003-3-9f33-1504-7262",
     "next": "a5ab6afa-7174-11ee-b58a-0242ac110003-3-71e5-c78d-5827",
     "previous": "a5ab6a96-7174-11ee-b58a-0242ac110003-3-9888-a15b-0c81"
    }
   },
   "source": [
    "`restuser`によってユーザ情報が取得できることを確認します。HTTPの応答がOK(200)となり、以下の情報が取得できることを確認してください。\n",
    "\n",
    "```\n",
    "{\"name\": \"vcp\", \"dir\": \"/home/vcp\", \"shell\": \"/bin/bash\", \"uid\": 1000, \"gid\": 1000}\n",
    "```"
   ]
  },
  {
   "cell_type": "code",
   "execution_count": null,
   "metadata": {
    "lc_cell_meme": {
     "current": "a5ab6afa-7174-11ee-b58a-0242ac110003-3-71e5-c78d-5827",
     "next": "a5ab6b7c-7174-11ee-b58a-0242ac110003-4-f117-1fc8-e591-7ac3",
     "previous": "a5ab6ad2-7174-11ee-b58a-0242ac110003-3-9f33-1504-7262"
    },
    "lc_wrapper": {}
   },
   "outputs": [],
   "source": [
    "!ansible {ugroup_name}_{manager_name} -b -m shell \\\n",
    "    -a 'echo -e \"POST /{{{{ansible_user}}}} HTTP/1.0\\r\\n\" | nc -U /var/run/restuser.sock'"
   ]
  },
  {
   "cell_type": "markdown",
   "metadata": {
    "lc_cell_meme": {
     "current": "a5ab6b7c-7174-11ee-b58a-0242ac110003-4-f117-1fc8-e591-7ac3",
     "next": "34bb51d8-7175-11ee-b58a-0242ac110003-3-86fa-1112-6e0b",
     "previous": "a5ab6afa-7174-11ee-b58a-0242ac110003-3-71e5-c78d-5827"
    }
   },
   "source": [
    "JupyterHubのコンテナイメージが取得できたことを確認します。\n"
   ]
  },
  {
   "cell_type": "code",
   "execution_count": null,
   "metadata": {
    "lc_cell_meme": {
     "current": "34bb51d8-7175-11ee-b58a-0242ac110003-3-86fa-1112-6e0b",
     "next": "34bb52d2-7175-11ee-b58a-0242ac110003-3-fd7d-e32d-161f",
     "previous": "a5ab6b7c-7174-11ee-b58a-0242ac110003-4-f117-1fc8-e591-7ac3"
    },
    "lc_wrapper": {}
   },
   "outputs": [],
   "source": [
    "!ansible {ugroup_name}_{manager_name} -a \\\n",
    "    'docker images -f label=org.jupyter.service=jupyterhub'"
   ]
  },
  {
   "cell_type": "markdown",
   "metadata": {
    "lc_cell_meme": {
     "current": "34bb52d2-7175-11ee-b58a-0242ac110003-3-fd7d-e32d-161f",
     "next": "34bb5318-7175-11ee-b58a-0242ac110003-3-34f7-5022-01d6",
     "previous": "34bb51d8-7175-11ee-b58a-0242ac110003-3-86fa-1112-6e0b"
    }
   },
   "source": [
    "JupyterHubコンテナのために配置したファイルを確認します。\n"
   ]
  },
  {
   "cell_type": "code",
   "execution_count": null,
   "metadata": {
    "lc_cell_meme": {
     "current": "34bb5318-7175-11ee-b58a-0242ac110003-3-34f7-5022-01d6",
     "next": "34bb534a-7175-11ee-b58a-0242ac110003-4-066d-21a2-f1e9-041e",
     "previous": "34bb52d2-7175-11ee-b58a-0242ac110003-3-fd7d-e32d-161f"
    },
    "lc_wrapper": {}
   },
   "outputs": [],
   "source": [
    "!ansible {ugroup_name}_{manager_name} -a 'tree {{{{jupyterhub_dir}}}}'"
   ]
  },
  {
   "cell_type": "markdown",
   "metadata": {
    "lc_cell_meme": {
     "current": "34bb534a-7175-11ee-b58a-0242ac110003-4-066d-21a2-f1e9-041e",
     "next": "c3c85e70-7175-11ee-b58a-0242ac110003-3-b7eb-c30b-3fa6",
     "previous": "34bb5318-7175-11ee-b58a-0242ac110003-3-34f7-5022-01d6"
    }
   },
   "source": [
    "### PostgreSQLの確認"
   ]
  },
  {
   "cell_type": "markdown",
   "metadata": {
    "lc_cell_meme": {
     "current": "c3c85e70-7175-11ee-b58a-0242ac110003-3-b7eb-c30b-3fa6",
     "next": "c3c85f74-7175-11ee-b58a-0242ac110003-3-e264-bba1-3298",
     "previous": "34bb534a-7175-11ee-b58a-0242ac110003-4-066d-21a2-f1e9-041e"
    }
   },
   "source": [
    "PostgreSQLコンテナのために配置したファイルを確認します。\n"
   ]
  },
  {
   "cell_type": "code",
   "execution_count": null,
   "metadata": {
    "lc_cell_meme": {
     "current": "c3c85f74-7175-11ee-b58a-0242ac110003-3-e264-bba1-3298",
     "next": "c3c85fba-7175-11ee-b58a-0242ac110003-3-b409-ecd0-8e5c",
     "previous": "c3c85e70-7175-11ee-b58a-0242ac110003-3-b7eb-c30b-3fa6"
    },
    "lc_wrapper": {}
   },
   "outputs": [],
   "source": [
    "!ansible {ugroup_name}_{manager_name} -b -a 'tree {{{{postgres_dir}}}}'"
   ]
  },
  {
   "cell_type": "markdown",
   "metadata": {
    "lc_cell_meme": {
     "current": "c3c85fba-7175-11ee-b58a-0242ac110003-3-b409-ecd0-8e5c",
     "next": "c3c85fec-7175-11ee-b58a-0242ac110003-4-811a-0aaf-cc3e-fcb8",
     "previous": "c3c85f74-7175-11ee-b58a-0242ac110003-3-e264-bba1-3298"
    }
   },
   "source": [
    "### single-user Jupyter Notebook serverの確認"
   ]
  },
  {
   "cell_type": "markdown",
   "metadata": {
    "lc_cell_meme": {
     "current": "c3c85fec-7175-11ee-b58a-0242ac110003-4-811a-0aaf-cc3e-fcb8",
     "next": "c3c8601e-7175-11ee-b58a-0242ac110003-3-5994-d404-23f3",
     "previous": "c3c85fba-7175-11ee-b58a-0242ac110003-3-b409-ecd0-8e5c"
    }
   },
   "source": [
    "各VCノードのコンテナイメージ一覧を確認します。\n"
   ]
  },
  {
   "cell_type": "code",
   "execution_count": null,
   "metadata": {
    "lc_cell_meme": {
     "current": "c3c8601e-7175-11ee-b58a-0242ac110003-3-5994-d404-23f3",
     "next": "0b4fcff8-7176-11ee-b58a-0242ac110003-3-a3fa-26bb-4b7f",
     "previous": "c3c85fec-7175-11ee-b58a-0242ac110003-4-811a-0aaf-cc3e-fcb8"
    },
    "lc_wrapper": {}
   },
   "outputs": [],
   "source": [
    "!ansible {ugroup_name} -m shell -a 'docker images | \\\n",
    "    grep -e \"niicloudoperation/jupyterhub-singleuser\"'"
   ]
  },
  {
   "cell_type": "markdown",
   "metadata": {
    "lc_cell_meme": {
     "current": "0b4fcff8-7176-11ee-b58a-0242ac110003-3-a3fa-26bb-4b7f",
     "next": "0b4fd14c-7176-11ee-b58a-0242ac110003-4-be61-8413-7c8f-ff26",
     "previous": "c3c8601e-7175-11ee-b58a-0242ac110003-3-5994-d404-23f3"
    }
   },
   "source": [
    "## コンテナの起動の確認"
   ]
  },
  {
   "cell_type": "markdown",
   "metadata": {
    "lc_cell_meme": {
     "current": "0b4fd14c-7176-11ee-b58a-0242ac110003-4-be61-8413-7c8f-ff26",
     "next": "52fd81e2-7176-11ee-b58a-0242ac110003-3-feb1-5b6a-d301",
     "previous": "0b4fcff8-7176-11ee-b58a-0242ac110003-3-a3fa-26bb-4b7f"
    }
   },
   "source": [
    "起動後の状態を確認します。\n",
    "\n",
    "    コンテナが起動に失敗し何度も再起動されていないことを確認してください。\n",
    "\n"
   ]
  },
  {
   "cell_type": "code",
   "execution_count": null,
   "metadata": {
    "lc_cell_meme": {
     "current": "52fd81e2-7176-11ee-b58a-0242ac110003-3-feb1-5b6a-d301",
     "next": "52fd82e6-7176-11ee-b58a-0242ac110003-3-4637-f7de-1f7c",
     "previous": "0b4fd14c-7176-11ee-b58a-0242ac110003-4-be61-8413-7c8f-ff26"
    },
    "lc_wrapper": {}
   },
   "outputs": [],
   "source": [
    "!ansible {ugroup_name}_{manager_name} -a 'docker stack ps {{{{ugroup_name}}}}'"
   ]
  },
  {
   "cell_type": "markdown",
   "metadata": {
    "lc_cell_meme": {
     "current": "52fd82e6-7176-11ee-b58a-0242ac110003-3-4637-f7de-1f7c",
     "next": "52fd832c-7176-11ee-b58a-0242ac110003-3-06d4-738d-f58f",
     "previous": "52fd81e2-7176-11ee-b58a-0242ac110003-3-feb1-5b6a-d301"
    }
   },
   "source": [
    "postgres コンテナのログを表示します。\n"
   ]
  },
  {
   "cell_type": "code",
   "execution_count": null,
   "metadata": {
    "lc_cell_meme": {
     "current": "52fd832c-7176-11ee-b58a-0242ac110003-3-06d4-738d-f58f",
     "next": "52fd835e-7176-11ee-b58a-0242ac110003-3-13fc-1785-bc15",
     "previous": "52fd82e6-7176-11ee-b58a-0242ac110003-3-4637-f7de-1f7c"
    },
    "lc_wrapper": {}
   },
   "outputs": [],
   "source": [
    "!ansible {ugroup_name}_{manager_name} -a 'docker service logs {{{{ugroup_name}}}}_postgres'"
   ]
  },
  {
   "cell_type": "markdown",
   "metadata": {
    "lc_cell_meme": {
     "current": "52fd835e-7176-11ee-b58a-0242ac110003-3-13fc-1785-bc15",
     "next": "52fd8390-7176-11ee-b58a-0242ac110003-3-9acf-9de8-eacb",
     "previous": "52fd832c-7176-11ee-b58a-0242ac110003-3-06d4-738d-f58f"
    }
   },
   "source": [
    "`jupyterhub` コンテナのログを表示します。\n",
    "\n",
    "> PostgreSQLに接続できないなどのエラーが表示されていないことを確認してください。"
   ]
  },
  {
   "cell_type": "code",
   "execution_count": null,
   "metadata": {
    "lc_cell_meme": {
     "current": "52fd8390-7176-11ee-b58a-0242ac110003-3-9acf-9de8-eacb",
     "next": "52fd83c2-7176-11ee-b58a-0242ac110003-3-c4f5-241b-692d",
     "previous": "52fd835e-7176-11ee-b58a-0242ac110003-3-13fc-1785-bc15"
    },
    "lc_wrapper": {}
   },
   "outputs": [],
   "source": [
    "!ansible {ugroup_name}_{manager_name} -a 'docker service logs {{{{ugroup_name}}}}_jupyterhub'"
   ]
  },
  {
   "cell_type": "markdown",
   "metadata": {
    "lc_cell_meme": {
     "current": "52fd83c2-7176-11ee-b58a-0242ac110003-3-c4f5-241b-692d",
     "next": "52fd83f4-7176-11ee-b58a-0242ac110003-3-e6b2-d135-4def",
     "previous": "52fd8390-7176-11ee-b58a-0242ac110003-3-9acf-9de8-eacb"
    }
   },
   "source": [
    "`auth-proxy` コンテナのログを表示します。\n",
    "\n",
    "> 証明書設定に誤りがあるなどのエラーが表示されていないことを確認してください。"
   ]
  },
  {
   "cell_type": "code",
   "execution_count": null,
   "metadata": {
    "lc_cell_meme": {
     "current": "52fd83f4-7176-11ee-b58a-0242ac110003-3-e6b2-d135-4def",
     "next": "52fd841c-7176-11ee-b58a-0242ac110003-4-00ff-bc3c-7302-4a88",
     "previous": "52fd83c2-7176-11ee-b58a-0242ac110003-3-c4f5-241b-692d"
    },
    "lc_wrapper": {}
   },
   "outputs": [],
   "source": [
    "!ansible {ugroup_name}_{manager_name} -a 'docker service logs {{{{ugroup_name}}}}_auth-proxy'"
   ]
  },
  {
   "cell_type": "markdown",
   "metadata": {
    "lc_cell_meme": {
     "current": "52fd841c-7176-11ee-b58a-0242ac110003-4-00ff-bc3c-7302-4a88",
     "next": "b8c2547a-7177-11ee-b58a-0242ac110003-3-ea95-39f6-9eb6",
     "previous": "52fd83f4-7176-11ee-b58a-0242ac110003-3-e6b2-d135-4def"
    }
   },
   "source": [
    "## CoursewareHubにアクセスする"
   ]
  },
  {
   "cell_type": "markdown",
   "metadata": {
    "lc_cell_meme": {
     "current": "b8c2547a-7177-11ee-b58a-0242ac110003-3-ea95-39f6-9eb6",
     "next": "b8c254c0-7177-11ee-b58a-0242ac110003-3-467f-4a31-0324",
     "previous": "52fd841c-7176-11ee-b58a-0242ac110003-4-00ff-bc3c-7302-4a88"
    }
   },
   "source": [
    "次のセルを実行すると、構築したCoursewareHubのアドレスを表示します。"
   ]
  },
  {
   "cell_type": "code",
   "execution_count": null,
   "metadata": {
    "lc_cell_meme": {
     "current": "b8c254c0-7177-11ee-b58a-0242ac110003-3-467f-4a31-0324",
     "next": null,
     "previous": "b8c2547a-7177-11ee-b58a-0242ac110003-3-ea95-39f6-9eb6"
    },
    "lc_wrapper": {}
   },
   "outputs": [],
   "source": [
    "master_fqdn = gvars['master_fqdn']\n",
    "print(f'https://{master_fqdn}')"
   ]
  }
 ],
 "metadata": {
  "kernelspec": {
   "display_name": "Python 3",
   "language": "python",
   "name": "python3"
  },
  "language_info": {
   "file_extension": ".py",
   "mimetype": "text/x-python",
   "name": "python",
   "nbconvert_exporter": "python",
   "pygments_lexer": "ipython3",
   "version": "3.10.4"
  },
  "toc": {
   "base_numbering": 1,
   "nav_menu": {},
   "number_sections": true,
   "sideBar": true,
   "skip_h1_title": true,
   "title_cell": "Table of Contents",
   "title_sidebar": "Contents",
   "toc_cell": false,
   "toc_position": {
    "height": "calc(100% - 180px)",
    "left": "10px",
    "top": "150px",
    "width": "355.8px"
   },
   "toc_section_display": true,
   "toc_window_display": true
  }
 },
 "nbformat": 4,
 "nbformat_minor": 2
}
